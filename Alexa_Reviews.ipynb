{
 "cells": [
  {
   "cell_type": "code",
   "execution_count": null,
   "metadata": {},
   "outputs": [],
   "source": [
    "import pandas as pd\n",
    "import numpy as np\n",
    "import os\n",
    "import string\n",
    "import re\n",
    "import nltk\n",
    "from nltk.sentiment.vader import SentimentIntensityAnalyzer\n",
    "\n",
    "os.chdir('C:/Users/mohdn/OneDrive/Desktop/Nadeem/DataSets/Alexa')"
   ]
  },
  {
   "cell_type": "code",
   "execution_count": null,
   "metadata": {},
   "outputs": [],
   "source": [
    "#Reading the files\n",
    "alexa = pd.read_csv('Alexa.csv')\n",
    "\n",
    "stopword = nltk.corpus.stopwords.words('english')\n",
    "ps = nltk.PorterStemmer()\n",
    "wn=nltk.WordNetLemmatizer()\n",
    "sid = SentimentIntensityAnalyzer()"
   ]
  },
  {
   "cell_type": "code",
   "execution_count": null,
   "metadata": {},
   "outputs": [],
   "source": [
    "#obtaining the sentiment scores for the reviews.\n",
    "scores = []\n",
    "for review in (alexa['Review']):\n",
    "    score = sid.polarity_scores(str(review))\n",
    "    scores.append(score)\n",
    "scores = pd.DataFrame.from_dict(scores)\n",
    "\n",
    "country_wise = alexa[['Country','Review','Ratings']]\n",
    "country_wise = pd.concat([country_wise,scores],axis=1)\n",
    "\n",
    "country_wise.head(-1)"
   ]
  },
  {
   "cell_type": "code",
   "execution_count": null,
   "metadata": {},
   "outputs": [],
   "source": [
    "#Remove Punctuations\n",
    "\n",
    "string.punctuation\n",
    "def remove_punct(text):\n",
    "    text_nonpunct = \"\".join([char for char in text if char not in string.punctuation])\n",
    "    return text_nonpunct\n",
    "\n",
    "alexa['Clean_Review'] = alexa['Review'].apply(lambda x: remove_punct(x))\n",
    "alexa.head()\n",
    "\n",
    "# Tokenize \n",
    "\n",
    "def tokenize(text):\n",
    "    tokens = re.split('\\W+',text)\n",
    "    return tokens\n",
    "\n",
    "alexa['Clean_Review_tok'] = alexa['Clean_Review'].apply(lambda x: tokenize(x.lower()))\n",
    "alexa.head()\n",
    "\n",
    "\n",
    "\n",
    "def remove_stop(tok_list):\n",
    "    text = [word for word in tok_list if word not in stopword]\n",
    "    return text\n",
    "\n",
    "alexa['Clean_Review_Stop'] = alexa['Clean_Review_tok'].apply(lambda x: remove_stop(x))\n",
    "alexa.head()"
   ]
  },
  {
   "cell_type": "code",
   "execution_count": null,
   "metadata": {},
   "outputs": [],
   "source": [
    "def clean_text(text):\n",
    "    text =\"\".join([char for char in text if char not in string.punctuation])\n",
    "    token = re.split('\\W+',text)\n",
    "    stop_word = [word for word in token if word not in stopword]\n",
    "    #text = [ps.stem(word) for word in stop_word]\n",
    "    text = [wn.lemmatize(word) for word in stop_word]\n",
    "    return text\n",
    "\n",
    "alexa['Clean_Review'] = alexa['Review'].apply(lambda x: clean_text(x.lower()))\n",
    "#alexa['Short_Clean_Review'] = alexa['Short Review'].apply(lambda x: clean_text(x.lower()))\n",
    "alexa.head()  \n"
   ]
  },
  {
   "cell_type": "code",
   "execution_count": null,
   "metadata": {
    "collapsed": true
   },
   "outputs": [],
   "source": []
  }
 ],
 "metadata": {
  "kernelspec": {
   "display_name": "Python 3",
   "language": "python",
   "name": "python3"
  },
  "language_info": {
   "codemirror_mode": {
    "name": "ipython",
    "version": 3
   },
   "file_extension": ".py",
   "mimetype": "text/x-python",
   "name": "python",
   "nbconvert_exporter": "python",
   "pygments_lexer": "ipython3",
   "version": "3.6.3"
  }
 },
 "nbformat": 4,
 "nbformat_minor": 2
}
