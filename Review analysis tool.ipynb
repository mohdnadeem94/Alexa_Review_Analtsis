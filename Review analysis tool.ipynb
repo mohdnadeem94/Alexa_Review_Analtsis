{
 "cells": [
  {
   "cell_type": "code",
   "execution_count": null,
   "metadata": {
    "collapsed": true
   },
   "outputs": [],
   "source": [
    "#General Libraries:\n",
    "import pandas as pd\n",
    "import numpy as np\n",
    "import os\n",
    "\n",
    "#Web Scrapping Libraries:\n",
    "from urllib.request import urlopen\n",
    "from bs4 import BeautifulSoup\n",
    "\n",
    "#Error Handling \n",
    "import sys\n",
    "import traceback\n",
    "\n",
    "#Seeting up folder path:\n",
    "os.chdir('C:/Users/mohdn/OneDrive/Desktop/Nadeem/DataSets/Reviews_Tool/')"
   ]
  },
  {
   "cell_type": "markdown",
   "metadata": {},
   "source": [
    "US - B0792K2BK6\n",
    "UK - B0792KWK57\n",
    "India - B0792KTHKK\n",
    "Canada - B0792JYXZK\n",
    "Australia - B0792KRW2J"
   ]
  },
  {
   "cell_type": "code",
   "execution_count": null,
   "metadata": {},
   "outputs": [],
   "source": [
    "country = input('''Choose the country from the list :\n",
    "                1 - US,\n",
    "                2 - UK,\n",
    "                3 - India,\n",
    "                4 - Canada,\n",
    "                5 - Australia\n",
    "                ''')\n",
    "\n",
    "product = input('Enter the product id :')\n",
    "page_count = input('''Enter the amount of pages to scrap\n",
    "                    Minimum - 1\n",
    "                    Maximum - 500\n",
    "                    ''')"
   ]
  },
  {
   "cell_type": "code",
   "execution_count": null,
   "metadata": {},
   "outputs": [],
   "source": [
    "#Creating the dataframe to store the scrapped values\n",
    "\n",
    "dataframe_comp=pd.DataFrame()\n",
    "\n",
    "#Scraping Code:\n",
    "\n",
    "e='Exception message : HTTP Error 503: Service Unavailable'\n",
    "i=1\n",
    "\n",
    "while (i <= int(page_count) and e==('Exception message : HTTP Error 503: Service Unavailable')):\n",
    "    try:\n",
    "        if country == '1' or 'US':\n",
    "            html = 'https://www.amazon.com/Echo-Dot-3rd-Gen-speaker/product-reviews/{}/ref=cm_cr_arp_d_paging_btm_next_{}?ie=UTF8&reviewerType=all_reviews&pageNumber={}'.format(product,i,i)\n",
    "            country ='US'\n",
    "        if country == '2'or 'UK':\n",
    "            html = 'https://www.amazon.co.uk/Echo-Dot-3rd-Gen-Charcoal/product-reviews/{}/ref=cm_cr_dp_d_show_all_btm_next_{}?ie=UTF8&reviewerType=all_reviews&pageNumber={}'.format(product,i,i)\n",
    "            country ='UK'\n",
    "        if country == '3' or 'India':\n",
    "            html = 'https://www.amazon.in/All-new-Echo-Dot-3rd-Gen/product-reviews/{}/ref=cm_cr_dp_d_show_all_btm_next_{}?ie=UTF8&reviewerType=all_reviews&pageNumber={}'.format(product,i,i)\n",
    "            country ='India'\n",
    "        if country == '4' or 'Canada':\n",
    "            html = 'https://www.amazon.ca/All-new-Echo-Dot-3rd-Gen/product-reviews/{}/ref=cm_cr_dp_d_show_all_btm_next_{}?ie=UTF8&reviewerType=all_reviews&pageNumber={}'.format(product,i,i)\n",
    "            country ='Canada'\n",
    "        if country == '5' or ' Australia':\n",
    "            html = 'https://www.amazon.com.au/All-new-Echo-Smart-speaker-Alexa/product-reviews/{}/ref=cm_cr_dp_d_show_all_btm_next_{}?ie=UTF8&reviewerType=all_reviews&pageNumber={}'.format(product,i,i)\n",
    "            country =' Australia'\n",
    "        \n",
    "        html = urlopen(html)\n",
    "        soup = BeautifulSoup(html,\"lxml\")\n",
    "        html = soup.prettify('utf-8')\n",
    "        names = []\n",
    "        for span in soup.findAll('span',attrs={'class': 'a-profile-name'}):\n",
    "            name = span.text.strip()\n",
    "            names.append(name)\n",
    "        names =names [2::1]\n",
    "        dataframe = pd.DataFrame({'Country':country,'Names':names})\n",
    "        dataframe_comp = dataframe_comp.append(dataframe,ignore_index=True)\n",
    "        i = i+1\n",
    "        \n",
    "    except BaseException as ex:\n",
    "        # Get current system exception\n",
    "        ex_type, ex_value, ex_traceback = sys.exc_info()\n",
    "\n",
    "        # Extract unformatter stack traces as tuples\n",
    "        trace_back = traceback.extract_tb(ex_traceback)\n",
    "\n",
    "        # Format stacktrace\n",
    "        stack_trace = list()\n",
    "\n",
    "        for trace in trace_back:\n",
    "            stack_trace.append(\"File : %s , Line : %d, Func.Name : %s, Message : %s\" % (trace[0], trace[1], trace[2], trace[3]))\n",
    "\n",
    "            #print(\"Exception type : %s \" % ex_type.__name__)\n",
    "            #print(\"Exception message : %s\" %ex_value)\n",
    "            #print(\"Stack trace : %s\" %stack_trace)\n",
    "        e = (\"Exception message : %s\" %ex_value)"
   ]
  }
 ],
 "metadata": {
  "kernelspec": {
   "display_name": "Python 3",
   "language": "python",
   "name": "python3"
  },
  "language_info": {
   "codemirror_mode": {
    "name": "ipython",
    "version": 3
   },
   "file_extension": ".py",
   "mimetype": "text/x-python",
   "name": "python",
   "nbconvert_exporter": "python",
   "pygments_lexer": "ipython3",
   "version": "3.6.3"
  }
 },
 "nbformat": 4,
 "nbformat_minor": 2
}
